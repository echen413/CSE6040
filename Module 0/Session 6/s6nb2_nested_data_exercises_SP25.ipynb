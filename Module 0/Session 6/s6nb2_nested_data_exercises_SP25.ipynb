{
  "cells": [
    {
      "cell_type": "markdown",
      "metadata": {
        "id": "view-in-github",
        "colab_type": "text"
      },
      "source": [
        "<a href=\"https://colab.research.google.com/github/echen413/CSE6040/blob/main/Module%200/Session%206/s6nb2_nested_data_exercises_SP25.ipynb\" target=\"_parent\"><img src=\"https://colab.research.google.com/assets/colab-badge.svg\" alt=\"Open In Colab\"/></a>"
      ]
    },
    {
      "cell_type": "markdown",
      "id": "3e486c9a",
      "metadata": {
        "id": "3e486c9a"
      },
      "source": [
        "# Nested Data Exercises"
      ]
    },
    {
      "cell_type": "markdown",
      "id": "12663b12",
      "metadata": {
        "id": "12663b12"
      },
      "source": [
        "## Here is a data structure and some simple questions that require us to retrieve information from it."
      ]
    },
    {
      "cell_type": "markdown",
      "id": "346b2bde",
      "metadata": {
        "id": "346b2bde"
      },
      "source": [
        "### The notebook presents a complex nested data structure and some practical questions to answer about it.\n",
        "\n",
        "### The complexity of these questions represent what a 1-point exercise on the exam might look like.\n",
        "\n",
        "### Exams have 1-point, 2-point, and 3-point questions, rising in complexity with point value."
      ]
    },
    {
      "cell_type": "code",
      "execution_count": 4,
      "id": "f980b351",
      "metadata": {
        "id": "f980b351"
      },
      "outputs": [],
      "source": [
        "my_family = [\n",
        "  { \"family_name\": \"Tunnicliffe\",\n",
        "    \"num_people\": 4,\n",
        "    \"local\": True,\n",
        "    \"city\": \"Bethpage, NY\",\n",
        "    \"date_established\": 2014,\n",
        "    \"names\": [\"Diane\", \"Steve\", \"Dylan\", \"Landon\"],\n",
        "    \"number_of_children\": 2,\n",
        "    \"children\": [\n",
        "      {\n",
        "        \"name\": \"Dylan\",\n",
        "        \"age\": 5,\n",
        "        \"favorite_color\": \"black\",\n",
        "        \"nickname\": \"Dillybeans\",\n",
        "        \"loves\": \"Super Mario\",\n",
        "      },\n",
        "      {\n",
        "        \"name\": \"Landon\",\n",
        "        \"age\": 2,\n",
        "        \"favorite_color\": \"blue\",\n",
        "        \"nickname\": \"Landybean\",\n",
        "        \"loves\": \"trucks\",\n",
        "      }\n",
        "    ]\n",
        "  },\n",
        "  { \"family_name\": \"Agulnick\",\n",
        "    \"num_people\": 5,\n",
        "    \"local\": False,\n",
        "    \"city\": \"Newton, MA\",\n",
        "    \"date_established\": 1987,\n",
        "    \"names\": [\"Ellen\", \"Mark\", \"Diane\", \"Joshua\", \"Allison\"],\n",
        "    \"number_of_children\": 3,\n",
        "    \"children\": [\n",
        "      {\n",
        "        \"name\": \"Diane\",\n",
        "        \"age\": 31,\n",
        "        \"favorite_color\": \"pink\",\n",
        "        \"nickname\": \"Dini\",\n",
        "        \"loves\": \"unicorns\",\n",
        "      },\n",
        "      {\n",
        "        \"name\": \"Joshua\",\n",
        "        \"age\": 28,\n",
        "        \"favorite_color\": \"red\",\n",
        "        \"nickname\": \"Joshie\",\n",
        "        \"loves\": \"Super Mario\",\n",
        "      },\n",
        "      {\n",
        "        \"name\": \"Allison\",\n",
        "        \"age\": 26,\n",
        "        \"favorite_color\": \"purple\",\n",
        "        \"nickname\": \"Alli\",\n",
        "        \"loves\": \"candy\",\n",
        "      }\n",
        "    ]\n",
        "  }\n",
        "]"
      ]
    },
    {
      "cell_type": "markdown",
      "id": "b7c1d792",
      "metadata": {
        "id": "b7c1d792"
      },
      "source": [
        "#### Let's go back to PythonTutor for visualizing the data structure.\n",
        "\n",
        "#### Students can use this site on the exams, and we recommend that students use it, for complex data structures that are not easy to understand at a glance.\n",
        "\n",
        "https://pythontutor.com/python-debugger.html#mode=edit"
      ]
    },
    {
      "cell_type": "markdown",
      "id": "9116d22c",
      "metadata": {
        "id": "9116d22c"
      },
      "source": [
        "### Q1. Find the names of all children and put into a list."
      ]
    },
    {
      "cell_type": "code",
      "execution_count": null,
      "id": "07e32824",
      "metadata": {
        "id": "07e32824"
      },
      "outputs": [],
      "source": [
        "\"\"\"\n",
        "create an empty list to hold the child names\n",
        "\n",
        "Loop over the 2 families\n",
        "\n",
        "   loop over the children dictionary in each family unit (children dictionary key)\n",
        "\n",
        "        append each child name to the list (name dictionary key)\n",
        "\n",
        "return the list\n",
        "\"\"\""
      ]
    },
    {
      "cell_type": "code",
      "execution_count": 17,
      "id": "7988e424",
      "metadata": {
        "id": "7988e424",
        "colab": {
          "base_uri": "https://localhost:8080/"
        },
        "outputId": "de1d1ad9-5ac9-47da-9364-395de10e9bda"
      },
      "outputs": [
        {
          "output_type": "stream",
          "name": "stdout",
          "text": [
            "{'family_name': 'Tunnicliffe', 'num_people': 4, 'local': True, 'city': 'Bethpage, NY', 'date_established': 2014, 'names': ['Diane', 'Steve', 'Dylan', 'Landon'], 'number_of_children': 2, 'children': [{'name': 'Dylan', 'age': 5, 'favorite_color': 'black', 'nickname': 'Dillybeans', 'loves': 'Super Mario'}, {'name': 'Landon', 'age': 2, 'favorite_color': 'blue', 'nickname': 'Landybean', 'loves': 'trucks'}]}\n",
            "{'name': 'Dylan', 'age': 5, 'favorite_color': 'black', 'nickname': 'Dillybeans', 'loves': 'Super Mario'}\n",
            "{'name': 'Landon', 'age': 2, 'favorite_color': 'blue', 'nickname': 'Landybean', 'loves': 'trucks'}\n",
            "{'family_name': 'Agulnick', 'num_people': 5, 'local': False, 'city': 'Newton, MA', 'date_established': 1987, 'names': ['Ellen', 'Mark', 'Diane', 'Joshua', 'Allison'], 'number_of_children': 3, 'children': [{'name': 'Diane', 'age': 31, 'favorite_color': 'pink', 'nickname': 'Dini', 'loves': 'unicorns'}, {'name': 'Joshua', 'age': 28, 'favorite_color': 'red', 'nickname': 'Joshie', 'loves': 'Super Mario'}, {'name': 'Allison', 'age': 26, 'favorite_color': 'purple', 'nickname': 'Alli', 'loves': 'candy'}]}\n",
            "{'name': 'Diane', 'age': 31, 'favorite_color': 'pink', 'nickname': 'Dini', 'loves': 'unicorns'}\n",
            "{'name': 'Joshua', 'age': 28, 'favorite_color': 'red', 'nickname': 'Joshie', 'loves': 'Super Mario'}\n",
            "{'name': 'Allison', 'age': 26, 'favorite_color': 'purple', 'nickname': 'Alli', 'loves': 'candy'}\n"
          ]
        },
        {
          "output_type": "execute_result",
          "data": {
            "text/plain": [
              "['Dylan', 'Landon', 'Diane', 'Joshua', 'Allison']"
            ]
          },
          "metadata": {},
          "execution_count": 17
        }
      ],
      "source": [
        "def children_names(my_family):\n",
        "\n",
        "    #### YOUR CODE HERE\n",
        "    children = []\n",
        "\n",
        "    for unit in my_family:\n",
        "        print(unit)\n",
        "\n",
        "        for child in unit['children']:\n",
        "            print(child)\n",
        "\n",
        "            children.append(child['name'])\n",
        "\n",
        "    return children\n",
        "\n",
        "    pass  # comment out when writing code (although does it really matter?)\n",
        "\n",
        "children_names(my_family)"
      ]
    },
    {
      "cell_type": "code",
      "source": [
        "#write my own code\n",
        "lists=[]\n",
        "for fam in my_family:\n",
        "    print(fam)\n",
        "\n",
        "    for child in fam[\"children\"]:\n",
        "        print(child[\"name\"])\n",
        "\n",
        "        lists.append(child[\"name\"])\n",
        "print(lists)"
      ],
      "metadata": {
        "colab": {
          "base_uri": "https://localhost:8080/"
        },
        "id": "KmtygAOeZr3i",
        "outputId": "a180a94f-ca88-4f2c-deba-5522a6d1db1e"
      },
      "id": "KmtygAOeZr3i",
      "execution_count": 18,
      "outputs": [
        {
          "output_type": "stream",
          "name": "stdout",
          "text": [
            "{'family_name': 'Tunnicliffe', 'num_people': 4, 'local': True, 'city': 'Bethpage, NY', 'date_established': 2014, 'names': ['Diane', 'Steve', 'Dylan', 'Landon'], 'number_of_children': 2, 'children': [{'name': 'Dylan', 'age': 5, 'favorite_color': 'black', 'nickname': 'Dillybeans', 'loves': 'Super Mario'}, {'name': 'Landon', 'age': 2, 'favorite_color': 'blue', 'nickname': 'Landybean', 'loves': 'trucks'}]}\n",
            "Dylan\n",
            "Landon\n",
            "{'family_name': 'Agulnick', 'num_people': 5, 'local': False, 'city': 'Newton, MA', 'date_established': 1987, 'names': ['Ellen', 'Mark', 'Diane', 'Joshua', 'Allison'], 'number_of_children': 3, 'children': [{'name': 'Diane', 'age': 31, 'favorite_color': 'pink', 'nickname': 'Dini', 'loves': 'unicorns'}, {'name': 'Joshua', 'age': 28, 'favorite_color': 'red', 'nickname': 'Joshie', 'loves': 'Super Mario'}, {'name': 'Allison', 'age': 26, 'favorite_color': 'purple', 'nickname': 'Alli', 'loves': 'candy'}]}\n",
            "Diane\n",
            "Joshua\n",
            "Allison\n",
            "['Dylan', 'Landon', 'Diane', 'Joshua', 'Allison']\n"
          ]
        }
      ]
    },
    {
      "cell_type": "markdown",
      "id": "bb3a443f",
      "metadata": {
        "id": "bb3a443f"
      },
      "source": [
        "### Q2. Find names and ages of children in the non-local family unit, put each name and age into a tuple, and put the tuples into a list."
      ]
    },
    {
      "cell_type": "code",
      "execution_count": null,
      "id": "d7df38c1",
      "metadata": {
        "id": "d7df38c1"
      },
      "outputs": [],
      "source": [
        "\"\"\"\n",
        "create an empty list to hold the child names\n",
        "\n",
        "Loop over the 2 families\n",
        "\n",
        "   Look at the \"local\" key and if it is false:\n",
        "\n",
        "        loop over the children dictionary in each family unit (children dictionary key)\n",
        "\n",
        "             create the tuple with the chile name and child age values\n",
        "             append each child name/age tuple to the list\n",
        "\n",
        "return the list\n",
        "\"\"\""
      ]
    },
    {
      "cell_type": "code",
      "source": [
        "#write my own code\n",
        "\n",
        "lists=[]\n",
        "for fam in my_family:\n",
        "    if fam[\"local\"]==False:\n",
        "        print(fam)\n",
        "        for child in fam[\"children\"]:\n",
        "            print(child[\"name\"],child[\"age\"])\n",
        "            name_age = (child[\"name\"],child[\"age\"])\n",
        "            lists.append(name_age)\n",
        "print(lists)"
      ],
      "metadata": {
        "colab": {
          "base_uri": "https://localhost:8080/"
        },
        "id": "p5R970TKbOb8",
        "outputId": "f1c7ce1e-07b1-4f63-9654-e973eeceec6f"
      },
      "id": "p5R970TKbOb8",
      "execution_count": 26,
      "outputs": [
        {
          "output_type": "stream",
          "name": "stdout",
          "text": [
            "{'family_name': 'Agulnick', 'num_people': 5, 'local': False, 'city': 'Newton, MA', 'date_established': 1987, 'names': ['Ellen', 'Mark', 'Diane', 'Joshua', 'Allison'], 'number_of_children': 3, 'children': [{'name': 'Diane', 'age': 31, 'favorite_color': 'pink', 'nickname': 'Dini', 'loves': 'unicorns'}, {'name': 'Joshua', 'age': 28, 'favorite_color': 'red', 'nickname': 'Joshie', 'loves': 'Super Mario'}, {'name': 'Allison', 'age': 26, 'favorite_color': 'purple', 'nickname': 'Alli', 'loves': 'candy'}]}\n",
            "Diane 31\n",
            "Joshua 28\n",
            "Allison 26\n",
            "[('Diane', 31), ('Joshua', 28), ('Allison', 26)]\n"
          ]
        }
      ]
    },
    {
      "cell_type": "code",
      "execution_count": 27,
      "id": "1696348b",
      "metadata": {
        "id": "1696348b",
        "colab": {
          "base_uri": "https://localhost:8080/"
        },
        "outputId": "e029e66c-b817-4264-9db3-ddc7a20fcca8"
      },
      "outputs": [
        {
          "output_type": "stream",
          "name": "stdout",
          "text": [
            "{'family_name': 'Tunnicliffe', 'num_people': 4, 'local': True, 'city': 'Bethpage, NY', 'date_established': 2014, 'names': ['Diane', 'Steve', 'Dylan', 'Landon'], 'number_of_children': 2, 'children': [{'name': 'Dylan', 'age': 5, 'favorite_color': 'black', 'nickname': 'Dillybeans', 'loves': 'Super Mario'}, {'name': 'Landon', 'age': 2, 'favorite_color': 'blue', 'nickname': 'Landybean', 'loves': 'trucks'}]}\n",
            "{'family_name': 'Agulnick', 'num_people': 5, 'local': False, 'city': 'Newton, MA', 'date_established': 1987, 'names': ['Ellen', 'Mark', 'Diane', 'Joshua', 'Allison'], 'number_of_children': 3, 'children': [{'name': 'Diane', 'age': 31, 'favorite_color': 'pink', 'nickname': 'Dini', 'loves': 'unicorns'}, {'name': 'Joshua', 'age': 28, 'favorite_color': 'red', 'nickname': 'Joshie', 'loves': 'Super Mario'}, {'name': 'Allison', 'age': 26, 'favorite_color': 'purple', 'nickname': 'Alli', 'loves': 'candy'}]}\n"
          ]
        },
        {
          "output_type": "execute_result",
          "data": {
            "text/plain": [
              "[('Diane', 31), ('Joshua', 28), ('Allison', 26)]"
            ]
          },
          "metadata": {},
          "execution_count": 27
        }
      ],
      "source": [
        "def child_names_ages(my_family):\n",
        "\n",
        "    #### YOUR CODE HERE\n",
        "    child_ages = []\n",
        "\n",
        "    for unit in my_family:\n",
        "        print(unit)\n",
        "\n",
        "        if unit['local'] == False:\n",
        "\n",
        "            for child in unit['children']:\n",
        "                name_and_age = (child['name'], child['age'])\n",
        "                child_ages.append(name_and_age)\n",
        "\n",
        "    return child_ages\n",
        "\n",
        "    pass    # comment out when writing code (although does it really matter?)\n",
        "\n",
        "child_names_ages(my_family)"
      ]
    },
    {
      "cell_type": "markdown",
      "id": "0edd3e04",
      "metadata": {
        "id": "0edd3e04"
      },
      "source": [
        "### Q3. Which child (or children) loves Super Mario?\n",
        "\n",
        "### Return a list of the name(s) of these children."
      ]
    },
    {
      "cell_type": "code",
      "source": [
        "#write my own code\n",
        "\n",
        "lists=[]\n",
        "for fam in my_family:\n",
        "      for child in fam[\"children\"]:\n",
        "          if child[\"loves\"]==\"Super Mario\":\n",
        "            print(child[\"name\"])\n",
        "\n",
        "            lists.append(child[\"name\"])\n",
        "print(lists)"
      ],
      "metadata": {
        "id": "oO5La4YvdZPH",
        "outputId": "92a9a1d5-4b3b-4e34-e405-ca9279433dac",
        "colab": {
          "base_uri": "https://localhost:8080/"
        }
      },
      "id": "oO5La4YvdZPH",
      "execution_count": 30,
      "outputs": [
        {
          "output_type": "stream",
          "name": "stdout",
          "text": [
            "Dylan\n",
            "Joshua\n",
            "['Dylan', 'Joshua']\n"
          ]
        }
      ]
    },
    {
      "cell_type": "code",
      "execution_count": null,
      "id": "9cc683ec",
      "metadata": {
        "id": "9cc683ec"
      },
      "outputs": [],
      "source": [
        "\"\"\"\n",
        "create an empty list to hold the child names\n",
        "\n",
        "Loop over the 2 families\n",
        "\n",
        "      loop over the children dictionary in each family unit (children dictionary key)\n",
        "\n",
        "            if the value for the 'loves' key is \"Super Mario\"\n",
        "\n",
        "                  create the tuple with the chile name and child age values\n",
        "                  append each child name  to the list\n",
        "\n",
        "return the list\n",
        "\"\"\""
      ]
    },
    {
      "cell_type": "code",
      "execution_count": 34,
      "id": "7abe2424",
      "metadata": {
        "id": "7abe2424",
        "colab": {
          "base_uri": "https://localhost:8080/"
        },
        "outputId": "40af68d7-8c56-4268-a306-2a9473b81029"
      },
      "outputs": [
        {
          "output_type": "stream",
          "name": "stdout",
          "text": [
            "['Dylan', 'Joshua']\n",
            "Dylan really loves Super Mario.\n",
            "Joshua really loves Super Mario.\n"
          ]
        }
      ],
      "source": [
        "def loves_mario (my_family):\n",
        "\n",
        "    #### YOUR CODE HERE\n",
        "    loves_Mario_child = []\n",
        "\n",
        "    for unit in my_family:\n",
        "\n",
        "        for child in unit['children']:\n",
        "\n",
        "            if child['loves'] == 'Super Mario':\n",
        "\n",
        "                loves_Mario_child.append(child['name'])\n",
        "\n",
        "    return loves_Mario_child\n",
        "\n",
        "    pass # comment out when writing code (although does it really matter?)\n",
        "\n",
        "answer = loves_mario(my_family)\n",
        "# uncomment the below after writing the function\n",
        "print(answer)\n",
        "\n",
        "for name in answer:\n",
        "    print (f\"{name} really loves Super Mario.\")"
      ]
    },
    {
      "cell_type": "markdown",
      "id": "b2c6d161",
      "metadata": {
        "id": "b2c6d161"
      },
      "source": [
        "## What are your questions on nested data structures?"
      ]
    },
    {
      "cell_type": "code",
      "execution_count": null,
      "id": "3a79c97b",
      "metadata": {
        "id": "3a79c97b"
      },
      "outputs": [],
      "source": []
    }
  ],
  "metadata": {
    "colab": {
      "provenance": [],
      "include_colab_link": true
    },
    "kernelspec": {
      "display_name": "Python 3 (ipykernel)",
      "language": "python",
      "name": "python3"
    },
    "language_info": {
      "codemirror_mode": {
        "name": "ipython",
        "version": 3
      },
      "file_extension": ".py",
      "mimetype": "text/x-python",
      "name": "python",
      "nbconvert_exporter": "python",
      "pygments_lexer": "ipython3",
      "version": "3.9.13"
    }
  },
  "nbformat": 4,
  "nbformat_minor": 5
}