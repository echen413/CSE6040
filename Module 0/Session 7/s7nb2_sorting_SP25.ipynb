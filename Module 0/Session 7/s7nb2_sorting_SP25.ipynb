{
  "cells": [
    {
      "cell_type": "markdown",
      "metadata": {
        "id": "view-in-github",
        "colab_type": "text"
      },
      "source": [
        "<a href=\"https://colab.research.google.com/github/echen413/CSE6040/blob/main/Module%200/Session%207/s7nb2_sorting_SP25.ipynb\" target=\"_parent\"><img src=\"https://colab.research.google.com/assets/colab-badge.svg\" alt=\"Open In Colab\"/></a>"
      ]
    },
    {
      "cell_type": "markdown",
      "metadata": {
        "id": "hynQdyc-OnwA"
      },
      "source": [
        "# Sorting"
      ]
    },
    {
      "cell_type": "markdown",
      "metadata": {
        "id": "_HGIF5WhOnwH"
      },
      "source": [
        "## Introduction\n",
        "\n",
        "### Tap tap tap.................  You can be guaranteed that you will be required to do sorting on all of the exams in the course."
      ]
    },
    {
      "cell_type": "markdown",
      "metadata": {
        "id": "NLfq3nj8OnwI"
      },
      "source": [
        "It's common for programmer to want to sort groups of data. For example, we might want to sort a list of employees by their start date. Python provides a built in function for doing this sort of work: `sorted()` (see the [documentation](https://docs.python.org/3/library/functions.html#sorted) for more details).\n",
        "\n",
        "- Python has an entire tutorial dedicated to [Sorting](https://docs.python.org/3/howto/sorting.html).\n",
        "  - Many of the examples, and even some of the text in this notebook, are taken directly from this tutorial."
      ]
    },
    {
      "cell_type": "markdown",
      "metadata": {
        "id": "63C6bvDuOnwJ"
      },
      "source": [
        "## Simple Sorting"
      ]
    },
    {
      "cell_type": "markdown",
      "metadata": {
        "id": "0OnCalhTOnwK"
      },
      "source": [
        "A simple ascending sort is very easy: just call the `sorted()` function. It returns a new sorted list:"
      ]
    },
    {
      "cell_type": "code",
      "execution_count": 5,
      "metadata": {
        "id": "VdNQQ84NOnwK",
        "outputId": "a87d9996-8da4-44b0-96eb-0ec213b7889d",
        "colab": {
          "base_uri": "https://localhost:8080/"
        }
      },
      "outputs": [
        {
          "output_type": "execute_result",
          "data": {
            "text/plain": [
              "[1, 2, 3, 4, 5]"
            ]
          },
          "metadata": {},
          "execution_count": 5
        }
      ],
      "source": [
        "my_tuple = (5, 2, 3, 1, 4)\n",
        "sorted(my_tuple)"
      ]
    },
    {
      "cell_type": "markdown",
      "metadata": {
        "id": "cl8lLH1DOnwL"
      },
      "source": [
        "- You can pass any iterable to `sorted()`.\n",
        "- Notice that `sorted()` returns a `list`.\n",
        "  - If you need a different type, you'll need to cast it to the new type.\n",
        "\n",
        "If we want, we can use the `reverse` keyword to return the items in reverse order:"
      ]
    },
    {
      "cell_type": "code",
      "execution_count": 6,
      "metadata": {
        "id": "JsRqwgjcOnwM",
        "outputId": "dc4bfa82-03c4-4e81-b90f-91ce3f25fe10",
        "colab": {
          "base_uri": "https://localhost:8080/"
        }
      },
      "outputs": [
        {
          "output_type": "execute_result",
          "data": {
            "text/plain": [
              "[5, 4, 3, 2, 1]"
            ]
          },
          "metadata": {},
          "execution_count": 6
        }
      ],
      "source": [
        "my_tuple = (5, 2, 3, 1, 4)\n",
        "sorted(my_tuple, reverse=True)"
      ]
    },
    {
      "cell_type": "markdown",
      "metadata": {
        "id": "TI7fSjilOnwM"
      },
      "source": [
        "## Key Functions"
      ]
    },
    {
      "cell_type": "markdown",
      "metadata": {
        "id": "CT-8NarxOnwM"
      },
      "source": [
        "By default, Python will simply use the `<` operator to compare values. So, when determining order of integers, `sorted()` will evaluate the expression `a < b` for various values and use the results to order the items.\n",
        "\n",
        "However, we can call a function on each item *before* this comparison is made. This gives us a lot of power to arbitrarily order our iterables.\n",
        "\n",
        "**For example, we can sort a list of tuples by checking the 3rd element in the list.**"
      ]
    },
    {
      "cell_type": "code",
      "execution_count": 48,
      "metadata": {
        "id": "kWRFJLFeOnwN",
        "outputId": "693599c7-edff-49e6-80d3-596f2fb9c31b",
        "colab": {
          "base_uri": "https://localhost:8080/"
        }
      },
      "outputs": [
        {
          "output_type": "execute_result",
          "data": {
            "text/plain": [
              "[('Zac', 'C', 8), ('dave', 'B', 10), ('john', 'A', 11), ('jane', 'B', 12)]"
            ]
          },
          "metadata": {},
          "execution_count": 48
        }
      ],
      "source": [
        "# Define the list of tuples\n",
        "# each tuple has name, grade, credits earned\n",
        "student_tuples = [\n",
        "    ('Zac', 'C', 8),\n",
        "    ('john', 'A', 11),\n",
        "    ('jane', 'B', 12),\n",
        "    ('dave', 'B', 10),\n",
        "]\n",
        "\n",
        "# Method 1: Create the function traditionally --------------------------\n",
        "def sorting_func(tup):\n",
        "    return tup[2]\n",
        "\n",
        "# Return the sorted tuples\n",
        "sorted(student_tuples, key=sorting_func)\n"
      ]
    },
    {
      "cell_type": "markdown",
      "metadata": {
        "id": "JUHSGLKj1cBO"
      },
      "source": [
        "### Tap tap tap, you want to know this one very well!!"
      ]
    },
    {
      "cell_type": "code",
      "execution_count": 45,
      "metadata": {
        "id": "KpqnoLRp1cBP",
        "outputId": "a87d362e-48e5-41df-9258-60c61a144a37",
        "colab": {
          "base_uri": "https://localhost:8080/"
        }
      },
      "outputs": [
        {
          "output_type": "stream",
          "name": "stdout",
          "text": [
            "[('Zac', 'C', 8), ('dave', 'B', 10), ('john', 'A', 11), ('jane', 'B', 12)]\n",
            "[('jane', 'B', 12), ('john', 'A', 11), ('dave', 'B', 10), ('Zac', 'C', 8)]\n",
            "[('jane', 'B', 12), ('john', 'A', 11), ('dave', 'B', 10), ('Zac', 'C', 8)]\n"
          ]
        }
      ],
      "source": [
        "# Method 2: Use a lambda function --------------------------------------\n",
        "\n",
        "# sort in ascending order\n",
        "print(sorted(student_tuples, key=lambda tup: tup[2]))\n",
        "\n",
        "# sort in descending order\n",
        "print(sorted(student_tuples, key=lambda tup: -tup[2]))\n",
        "\n",
        "#(or reverse=True)\n",
        "print(sorted(student_tuples, key=lambda tup: tup[2],reverse=True))\n",
        "\n"
      ]
    },
    {
      "cell_type": "code",
      "source": [
        "s=\"ajb\"\n",
        "sorted(s)"
      ],
      "metadata": {
        "id": "z9jBf4RHdUo3",
        "outputId": "80a7cc8f-e012-47b8-e362-188a327534e5",
        "colab": {
          "base_uri": "https://localhost:8080/"
        }
      },
      "execution_count": 42,
      "outputs": [
        {
          "output_type": "execute_result",
          "data": {
            "text/plain": [
              "['a', 'b', 'j']"
            ]
          },
          "metadata": {},
          "execution_count": 42
        }
      ]
    },
    {
      "cell_type": "code",
      "execution_count": 43,
      "metadata": {
        "id": "acLda7zt1cBP",
        "outputId": "15412a78-2561-40b9-dc29-88e45e3d6ed2",
        "colab": {
          "base_uri": "https://localhost:8080/"
        }
      },
      "outputs": [
        {
          "output_type": "execute_result",
          "data": {
            "text/plain": [
              "[('john', 'A', 11), ('jane', 'B', 12), ('dave', 'B', 10), ('Zac', 'C', 8)]"
            ]
          },
          "metadata": {},
          "execution_count": 43
        }
      ],
      "source": [
        "# sort by name, in descending order\n",
        "\n",
        "# this one throws an error. Why?\n",
        "# sorted(student_tuples, key=lambda tup: -tup[0])\n",
        "\n",
        "# this one is correct\n",
        "sorted(student_tuples, key=lambda tup: tup[0], reverse=True)"
      ]
    },
    {
      "cell_type": "markdown",
      "metadata": {
        "id": "FoTyhQJZ1cBP"
      },
      "source": [
        "#### If you are asked sort strings in descending order, you must use the `reverse=True` parameter."
      ]
    },
    {
      "cell_type": "markdown",
      "metadata": {
        "id": "TQ8MErUz1cBP"
      },
      "source": [
        "### What if we want to sort by a specific index, and break any ties using a different index?\n",
        "\n",
        "### Tap tap tap........................\n",
        "\n",
        "#### For example, sort the `student_tuples` list first by grade ascending and break any ties by credits earned in descending order."
      ]
    },
    {
      "cell_type": "code",
      "execution_count": 26,
      "metadata": {
        "id": "fXbLcJai1cBP",
        "outputId": "6fcd4c4e-8a30-4888-936e-7a459075ef12",
        "colab": {
          "base_uri": "https://localhost:8080/"
        }
      },
      "outputs": [
        {
          "output_type": "execute_result",
          "data": {
            "text/plain": [
              "[('john', 'A', 11), ('jane', 'B', 12), ('dave', 'B', 10)]"
            ]
          },
          "metadata": {},
          "execution_count": 26
        }
      ],
      "source": [
        "sorted(student_tuples, key=lambda tup: (tup[1], -tup[2]))"
      ]
    },
    {
      "cell_type": "markdown",
      "metadata": {
        "id": "iGVioBMM1cBP"
      },
      "source": [
        "**As above Note that the `-` syntax only works for numeric (integer and float) variables.**\n",
        "\n",
        "If we were to try to do a descending sort with `-` using one of the string variables, it would throw an error."
      ]
    },
    {
      "cell_type": "code",
      "execution_count": null,
      "metadata": {
        "id": "kV5dz6r01cBP"
      },
      "outputs": [],
      "source": [
        "# uncomment to see the error\n",
        "# sorted(student_tuples, key=lambda tup: (tup[1], -tup[0]))"
      ]
    },
    {
      "cell_type": "code",
      "execution_count": null,
      "metadata": {
        "id": "biwAd3yv1cBP"
      },
      "outputs": [],
      "source": [
        "# you have to use the \"reverse\" keyword, but it applies to all the sorting\n",
        "# sorted(student_tuples, key=lambda tup: (tup[1], tup[0]), reverse=True)"
      ]
    },
    {
      "cell_type": "markdown",
      "metadata": {
        "id": "1laaJTY21cBP"
      },
      "source": [
        "### On an exam, you will not be asked to sort by multiple elements, in which the element in descending order is not a numeric variable."
      ]
    },
    {
      "cell_type": "code",
      "source": [
        "# Adding\n",
        "\n",
        "d={}\n",
        "for size in range(1,10):#from 1...to 9\n",
        "    for i in range(0,20,size):\n",
        "        if i not in d.keys():\n",
        "            d[i]=0\n",
        "        d[i]+=1\n",
        "print(f'd={d}')\n",
        "sorted(d.items(), key=lambda x:(-x[1],x[0]))[:5]\n",
        "#sort by value(frequency) then key(size)"
      ],
      "metadata": {
        "id": "5lZK2YMgk1EB",
        "outputId": "ab71e997-f907-4a19-af8d-dbdecc4579c0",
        "colab": {
          "base_uri": "https://localhost:8080/"
        }
      },
      "execution_count": 93,
      "outputs": [
        {
          "output_type": "stream",
          "name": "stdout",
          "text": [
            "d={0: 9, 1: 1, 2: 2, 3: 2, 4: 3, 5: 2, 6: 4, 7: 2, 8: 4, 9: 3, 10: 3, 11: 1, 12: 5, 13: 1, 14: 3, 15: 3, 16: 4, 17: 1, 18: 5, 19: 1}\n"
          ]
        },
        {
          "output_type": "execute_result",
          "data": {
            "text/plain": [
              "[(0, 9), (12, 5), (18, 5), (6, 4), (8, 4)]"
            ]
          },
          "metadata": {},
          "execution_count": 93
        }
      ]
    },
    {
      "cell_type": "markdown",
      "metadata": {
        "id": "f7Cn6K9LOnwN"
      },
      "source": [
        "## A more complex example, using `sorted()`\n",
        "\n",
        "### Recall this complex data structure, from the nested data notebook."
      ]
    },
    {
      "cell_type": "code",
      "execution_count": 101,
      "metadata": {
        "id": "ePUnbB3J1cBP"
      },
      "outputs": [],
      "source": [
        "my_family = [\n",
        "  { \"family_name\": \"Tunnicliffe\",\n",
        "    \"num_people\": 4,\n",
        "    \"local\": True,\n",
        "    \"city\": \"Bethpage, NY\",\n",
        "    \"date_established\": 2014,\n",
        "    \"names\": [\"Diane\", \"Steve\", \"Dylan\", \"Landon\"],\n",
        "    \"number_of_children\": 2,\n",
        "    \"children\": [\n",
        "      {\n",
        "        \"name\": \"Dylan\",\n",
        "        \"age\": 2,\n",
        "        \"favorite_color\": \"black\",\n",
        "        \"nickname\": \"Dillybeans\",\n",
        "        \"loves\": \"Super Mario\",\n",
        "      },\n",
        "      {\n",
        "        \"name\": \"Landon\",\n",
        "        \"age\": 2,\n",
        "        \"favorite_color\": \"blue\",\n",
        "        \"nickname\": \"Landybean\",\n",
        "        \"loves\": \"trucks\",\n",
        "      }\n",
        "    ]\n",
        "  },\n",
        "  { \"family_name\": \"Agulnick\",\n",
        "    \"num_people\": 5,\n",
        "    \"local\": False,\n",
        "    \"city\": \"Newton, MA\",\n",
        "    \"date_established\": 1987,\n",
        "    \"names\": [\"Ellen\", \"Mark\", \"Diane\", \"Joshua\", \"Allison\"],\n",
        "    \"number_of_children\": 3,\n",
        "    \"children\": [\n",
        "      {\n",
        "        \"name\": \"Diane\",\n",
        "        \"age\": 31,\n",
        "        \"favorite_color\": \"pink\",\n",
        "        \"nickname\": \"Dini\",\n",
        "        \"loves\": \"unicorns\",\n",
        "      },\n",
        "      {\n",
        "        \"name\": \"Joshua\",\n",
        "        \"age\": 28,\n",
        "        \"favorite_color\": \"red\",\n",
        "        \"nickname\": \"Joshie\",\n",
        "        \"loves\": \"trains\",\n",
        "      },\n",
        "      {\n",
        "        \"name\": \"Allison\",\n",
        "        \"age\": 26,\n",
        "        \"favorite_color\": \"purple\",\n",
        "        \"nickname\": \"Alli\",\n",
        "        \"loves\": \"candy\",\n",
        "      }\n",
        "    ]\n",
        "  }\n",
        "]"
      ]
    },
    {
      "cell_type": "markdown",
      "metadata": {
        "id": "ZhPZYV6D1cBP"
      },
      "source": [
        "As before, we can go to Python Tutor to visualize the data.\n",
        "\n",
        "https://pythontutor.com/python-debugger.html#mode=edit"
      ]
    },
    {
      "cell_type": "markdown",
      "metadata": {
        "id": "0ySutxTL1cBQ"
      },
      "source": [
        "### Find the Oldest and Youngest child\n",
        "\n",
        "#### This question uses sorting and a lambda function, in conjunction with other programming logic.\n",
        "\n",
        "#### The code here represents what might be required to solve a (simple or easy) 2-point question on an exam."
      ]
    },
    {
      "cell_type": "code",
      "source": [
        "def old_young(my_family):\n",
        "    list=[]\n",
        "    for fam in my_family:\n",
        "        for child in fam[\"children\"]:\n",
        "            print(child[\"name\"],child[\"age\"])\n",
        "            list.append(child)\n",
        "    list=(sorted(list,key=lambda child:(child[\"age\"],child[\"name\"])))\n",
        "    print([(i[\"name\"],i[\"age\"]) for i in list])\n",
        "\n",
        "    return list[-1][\"name\"],list[0][\"name\"]\n",
        "old_young(my_family)\n"
      ],
      "metadata": {
        "id": "K8tidl1ig-K3",
        "outputId": "a2ff7914-ffd6-408e-ee1a-8ce7c870594d",
        "colab": {
          "base_uri": "https://localhost:8080/"
        }
      },
      "execution_count": 125,
      "outputs": [
        {
          "output_type": "stream",
          "name": "stdout",
          "text": [
            "Dylan 2\n",
            "Landon 2\n",
            "Diane 31\n",
            "Joshua 28\n",
            "Allison 26\n",
            "[('Dylan', 2), ('Landon', 2), ('Allison', 26), ('Joshua', 28), ('Diane', 31)]\n"
          ]
        },
        {
          "output_type": "execute_result",
          "data": {
            "text/plain": [
              "('Diane', 'Dylan')"
            ]
          },
          "metadata": {},
          "execution_count": 125
        }
      ]
    },
    {
      "cell_type": "code",
      "source": [
        "[{'name': 'Dylan', 'age': 2, 'favorite_color': 'black', 'nickname': 'Dillybeans', 'loves': 'Super Mario'}, {'name': 'Landon', 'age': 2, 'favorite_color': 'blue', 'nickname': 'Landybean', 'loves': 'trucks'}, {'name': 'Allison', 'age': 26, 'favorite_color': 'purple', 'nickname': 'Alli', 'loves': 'candy'}, {'name': 'Joshua', 'age': 28, 'favorite_color': 'red', 'nickname': 'Joshie', 'loves': 'trains'}, {'name': 'Diane', 'age': 31, 'favorite_color': 'pink', 'nickname': 'Dini', 'loves': 'unicorns'}]\n"
      ],
      "metadata": {
        "id": "zrGkwc6EqEnZ",
        "outputId": "129fa61a-f55a-445b-dcea-60fcae32a48a",
        "colab": {
          "base_uri": "https://localhost:8080/"
        }
      },
      "execution_count": 105,
      "outputs": [
        {
          "output_type": "execute_result",
          "data": {
            "text/plain": [
              "[{'name': 'Dylan',\n",
              "  'age': 2,\n",
              "  'favorite_color': 'black',\n",
              "  'nickname': 'Dillybeans',\n",
              "  'loves': 'Super Mario'},\n",
              " {'name': 'Landon',\n",
              "  'age': 2,\n",
              "  'favorite_color': 'blue',\n",
              "  'nickname': 'Landybean',\n",
              "  'loves': 'trucks'},\n",
              " {'name': 'Allison',\n",
              "  'age': 26,\n",
              "  'favorite_color': 'purple',\n",
              "  'nickname': 'Alli',\n",
              "  'loves': 'candy'},\n",
              " {'name': 'Joshua',\n",
              "  'age': 28,\n",
              "  'favorite_color': 'red',\n",
              "  'nickname': 'Joshie',\n",
              "  'loves': 'trains'},\n",
              " {'name': 'Diane',\n",
              "  'age': 31,\n",
              "  'favorite_color': 'pink',\n",
              "  'nickname': 'Dini',\n",
              "  'loves': 'unicorns'}]"
            ]
          },
          "metadata": {},
          "execution_count": 105
        }
      ]
    },
    {
      "cell_type": "markdown",
      "metadata": {
        "id": "lFS9ps4e1cBQ"
      },
      "source": [
        "### Requirement:\n",
        "\n",
        "Return a tuple with two string elements.\n",
        "\n",
        "The first element is the name of the oldest child.\n",
        "\n",
        "The second element is the name of the youngest child."
      ]
    },
    {
      "cell_type": "code",
      "execution_count": null,
      "metadata": {
        "id": "sv9tlx7o1cBQ"
      },
      "outputs": [],
      "source": [
        "'''\n",
        "define the variables required, set to empty values\n",
        "    oldest child\n",
        "    youngest child\n",
        "    list of children\n",
        "\n",
        "loop over the input list\n",
        "    for each child\n",
        "        append the child dictionary to the list\n",
        "\n",
        "sort the list by child age, from oldest to youngest\n",
        "\n",
        "the first child in the list will be the oldest, so assign their name to the oldest child variable\n",
        "\n",
        "the last child in the list will be the youngest, so assign their name the youngest child varilable\n",
        "\n",
        "create and return the tuple\n",
        "\n",
        "'''"
      ]
    },
    {
      "cell_type": "code",
      "execution_count": 118,
      "metadata": {
        "id": "8Dit8_D_1cBQ"
      },
      "outputs": [],
      "source": [
        "def oldest_youngest(my_family):\n",
        "\n",
        "    #### YOUR CODE HERE\n",
        "    oldest_child = None\n",
        "    youngest_child = None\n",
        "    children = []\n",
        "\n",
        "    for unit in my_family:\n",
        "        for child in unit['children']:\n",
        "            children.append(child)\n",
        "\n",
        "    print(children)\n",
        "\n",
        "    sorted_children = (sorted(children, key = lambda child: child['age'], reverse = True))\n",
        "\n",
        "    oldest_child = sorted_children[0]['name']\n",
        "    youngest_child = sorted_children[-1]['name']\n",
        "\n",
        "    return (oldest_child, youngest_child)\n",
        "\n",
        "    pass   # placeholder"
      ]
    },
    {
      "cell_type": "code",
      "execution_count": 117,
      "metadata": {
        "id": "ykxFOAhY1cBQ",
        "outputId": "92493603-212f-47f9-9bbc-a0fc7d7e62e7",
        "colab": {
          "base_uri": "https://localhost:8080/"
        }
      },
      "outputs": [
        {
          "output_type": "stream",
          "name": "stdout",
          "text": [
            "[{'name': 'Diane', 'age': 31, 'favorite_color': 'pink', 'nickname': 'Dini', 'loves': 'unicorns'}, {'name': 'Joshua', 'age': 28, 'favorite_color': 'red', 'nickname': 'Joshie', 'loves': 'trains'}, {'name': 'Allison', 'age': 26, 'favorite_color': 'purple', 'nickname': 'Alli', 'loves': 'candy'}, {'name': 'Dylan', 'age': 2, 'favorite_color': 'black', 'nickname': 'Dillybeans', 'loves': 'Super Mario'}, {'name': 'Landon', 'age': 2, 'favorite_color': 'blue', 'nickname': 'Landybean', 'loves': 'trucks'}]\n",
            "The oldest child is Diane. The youngest child is Landon.\n"
          ]
        }
      ],
      "source": [
        "# will return error until function above is written\n",
        "(oldest,youngest) = oldest_youngest(my_family)\n",
        "\n",
        "print(f\"The oldest child is {oldest}. The youngest child is {youngest}.\")"
      ]
    },
    {
      "cell_type": "markdown",
      "metadata": {
        "id": "9JhNxCZ-OnwN"
      },
      "source": [
        "## Final Thoughts: Sorting in Place"
      ]
    },
    {
      "cell_type": "markdown",
      "metadata": {
        "id": "hayAnW42OnwN"
      },
      "source": [
        "Using `sorted()` **does not change the original iterable.** It simply returns a new list.\n",
        "\n",
        "However, Python lists have a method, `list.sort()`, which **does** change the original list. This means you will be modifing your original data!\n",
        "\n",
        "- **Do not use this unless you know *for a fact* that you will not need the original list.**"
      ]
    },
    {
      "cell_type": "code",
      "execution_count": 107,
      "metadata": {
        "id": "UddyabT-OnwN",
        "outputId": "50fc0edc-4c46-4f3e-c128-e75349f60dea",
        "colab": {
          "base_uri": "https://localhost:8080/"
        }
      },
      "outputs": [
        {
          "output_type": "stream",
          "name": "stdout",
          "text": [
            "First list ID: 139873249804032\n",
            "Second list ID: 139873249850944\n",
            "OK, modifying the first list won't impact the second list.\n"
          ]
        }
      ],
      "source": [
        "first_list = [2, 7, 3, 9, 10, 1]\n",
        "second_list = first_list.copy()\n",
        "\n",
        "# Are these the *same* list, or are they different?\n",
        "print(\"First list ID:\", id(first_list))\n",
        "print(\"Second list ID:\", id(second_list))\n",
        "\n",
        "if id(first_list) == id(second_list):\n",
        "    print(\"Wait, these are the same list!\")\n",
        "else:\n",
        "    print(\"OK, modifying the first list won't impact the second list.\")"
      ]
    },
    {
      "cell_type": "code",
      "source": [
        "import copy\n",
        "first_list = [2, 7, 3, 9, 10, 1]\n",
        "second_list = copy.deepcopy(first_list)\n",
        "\n",
        "# Are these the *same* list, or are they different?\n",
        "print(\"First list ID:\", id(first_list))\n",
        "print(\"Second list ID:\", id(second_list))\n",
        "\n",
        "if id(first_list) == id(second_list):\n",
        "    print(\"Wait, these are the same list!\")\n",
        "else:\n",
        "    print(\"OK, modifying the first list won't impact the second list.\")"
      ],
      "metadata": {
        "id": "v107lA7EnkoO",
        "outputId": "69c96c3a-353c-4cfb-ec51-238cedda815b",
        "colab": {
          "base_uri": "https://localhost:8080/"
        }
      },
      "execution_count": 108,
      "outputs": [
        {
          "output_type": "stream",
          "name": "stdout",
          "text": [
            "First list ID: 139873256149696\n",
            "Second list ID: 139872424490432\n",
            "OK, modifying the first list won't impact the second list.\n"
          ]
        }
      ]
    },
    {
      "cell_type": "code",
      "execution_count": 111,
      "metadata": {
        "id": "MgsSWBzM1cBQ",
        "outputId": "dc6be1e3-1147-4c81-e1f9-b51f41338eba",
        "colab": {
          "base_uri": "https://localhost:8080/"
        }
      },
      "outputs": [
        {
          "output_type": "stream",
          "name": "stdout",
          "text": [
            "What does our sorted first_list look like? None\n",
            "What does our original first_list look like? [1, 2, 3, 7, 9, 10]\n"
          ]
        }
      ],
      "source": [
        "first_list_sorted = sorted(first_list)\n",
        "print(\"What does our sorted first_list look like?\", first_list_sorted)\n",
        "print(\"What does our original first_list look like?\", first_list)"
      ]
    },
    {
      "cell_type": "code",
      "execution_count": 110,
      "metadata": {
        "id": "_Fvs3Tu21cBQ",
        "outputId": "3e59e223-b968-4519-9435-ebba10a8bd70",
        "colab": {
          "base_uri": "https://localhost:8080/"
        }
      },
      "outputs": [
        {
          "output_type": "stream",
          "name": "stdout",
          "text": [
            "What does the return value of the .sort() method look like? None\n",
            "What does our original second_list look like? [1, 2, 3, 7, 9, 10]\n"
          ]
        }
      ],
      "source": [
        "second_list_output = second_list.sort()\n",
        "print(\"What does the return value of the .sort() method look like?\", second_list_output)\n",
        "print(\"What does our original second_list look like?\", second_list)"
      ]
    },
    {
      "cell_type": "markdown",
      "metadata": {
        "id": "CW8Hz23XOnwO"
      },
      "source": [
        "### Tap tap tap, this is important!!\n",
        "\n",
        "We can see from the output above that the `.sort()` method will change the original list. Keep this in mind if you need to sort something.\n",
        "\n",
        "For this reason, we generally recommend to use the `sorted()` function and assign the result to a **NEW VARIABLE**.\n",
        "\n",
        "**This is one of the scenarios that we typically see in exams, when the test case variables return a failure because the student has modified an input variable.**\n",
        "\n",
        "**The student has modified an input variable using `sort()`, when they should have created a new variable using `sorted()`.**"
      ]
    },
    {
      "cell_type": "markdown",
      "metadata": {
        "id": "AIu8Hqnz1cBQ"
      },
      "source": [
        "## What are your questions on sorting?"
      ]
    },
    {
      "cell_type": "code",
      "source": [],
      "metadata": {
        "id": "58FX-t-4q4_a"
      },
      "execution_count": null,
      "outputs": []
    }
  ],
  "metadata": {
    "colab": {
      "provenance": [],
      "include_colab_link": true
    },
    "kernelspec": {
      "display_name": "Python 3 (ipykernel)",
      "language": "python",
      "name": "python3"
    },
    "language_info": {
      "codemirror_mode": {
        "name": "ipython",
        "version": 3
      },
      "file_extension": ".py",
      "mimetype": "text/x-python",
      "name": "python",
      "nbconvert_exporter": "python",
      "pygments_lexer": "ipython3",
      "version": "3.9.13"
    }
  },
  "nbformat": 4,
  "nbformat_minor": 0
}